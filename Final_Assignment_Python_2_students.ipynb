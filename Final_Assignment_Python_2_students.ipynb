{
 "cells": [
  {
   "cell_type": "markdown",
   "metadata": {},
   "source": [
    "# Final Python Assignment\n",
    "\n",
    "\n",
    "Use the following table to provide us with\n",
    "\n",
    "|name | exam number|\n",
    "|----|----|\n",
    "|Arjan Klein Holkenborg| u990602|\n",
    "|other group member's name| exam number|"
   ]
  },
  {
   "cell_type": "markdown",
   "metadata": {},
   "source": [
    "# Read this carefully"
   ]
  },
  {
   "cell_type": "markdown",
   "metadata": {},
   "source": [
    "This is the final assignment for python. You also need to make the R part of this final assignment.\n",
    "With this python part of the final assignment, you can earn 4 points.\n",
    "This assignment needs to be uploaded July 7th 2017 (23:59 at the latest).\n",
    "After you have finished this exam, do the following:\n",
    "\n",
    "-   upload your python and R files to github\n",
    "-   create two links in your README file:\n",
    "    -   one link to \"final python assignment\"\n",
    "    -   one link to \"final R assignment\"\n",
    "-   fill in the google form (see link on Blackboard) that you have uploaded your files\n",
    "-   use the same student number you gave us before, otherwise we cannot retrieve your pass/fail grades (if we cannot find these, we assume you failed all of them)"
   ]
  },
  {
   "cell_type": "markdown",
   "metadata": {},
   "source": [
    "# Doing math with python"
   ]
  },
  {
   "cell_type": "markdown",
   "metadata": {},
   "source": [
    "As in the tutorial of [week 4](http://janboone.github.io/programming-for-economists/python.html#week4), we will use python to work with functions. Although in the lectures and assignments we worked with plotly to make graphs, here we will use [matplotlib]([https://matplotlib.org/](https://matplotlib.org/)). Hence, you need to google to see how plots are made using this library. An important aspect of using open source software is that you can figure out yourself how to use things."
   ]
  },
  {
   "cell_type": "markdown",
   "metadata": {},
   "source": [
    "# Import libraries"
   ]
  },
  {
   "cell_type": "markdown",
   "metadata": {},
   "source": [
    "First, we need to import some libraries:"
   ]
  },
  {
   "cell_type": "code",
   "execution_count": 5,
   "metadata": {
    "collapsed": true
   },
   "outputs": [],
   "source": [
    "from scipy import optimize\n",
    "from numpy import arange\n",
    "import matplotlib.pyplot as plt\n",
    "%matplotlib inline\n",
    "import numpy as np\n",
    "from scipy.optimize import fsolve"
   ]
  },
  {
   "cell_type": "markdown",
   "metadata": {},
   "source": [
    "We are going to analyze the function $x^2 - 8x +15$. Check the lectures and assignments to see how you define a function in python.\n",
    "\n",
    "-   **1. [0.5 point]:** Define the python function $objective$ as $x^2 - 8x +15$."
   ]
  },
  {
   "cell_type": "code",
   "execution_count": 2,
   "metadata": {
    "collapsed": true
   },
   "outputs": [],
   "source": [
    "def objective(x):\n",
    "    y=x**2 - 8*x+ 15\n",
    "    return y"
   ]
  },
  {
   "cell_type": "markdown",
   "metadata": {},
   "source": [
    "We want to know what the zeros/roots are of this function; that is, the points $x$ where the function equals 0 (or, crosses the $x$-axis).\n",
    "\n",
    "-   **2. [1 point]:** Use $fsolve$ from $optimize$ to find **both** roots of this functions."
   ]
  },
  {
   "cell_type": "code",
   "execution_count": 6,
   "metadata": {},
   "outputs": [
    {
     "data": {
      "text/plain": [
       "array([ 3.,  5.])"
      ]
     },
     "execution_count": 6,
     "metadata": {},
     "output_type": "execute_result"
    }
   ],
   "source": [
    "f = lambda x: x**2 - 8*x+ 15\n",
    "x = np.array([0,8])\n",
    "fsolve(f,x)"
   ]
  },
  {
   "cell_type": "markdown",
   "metadata": {},
   "source": [
    "-   **3. [0.5 point]:** Find the points of intersection between the function $objective$ above and the function $f(x)=1.5 x$."
   ]
  },
  {
   "cell_type": "code",
   "execution_count": 7,
   "metadata": {},
   "outputs": [
    {
     "name": "stdout",
     "output_type": "stream",
     "text": [
      "[ 2.  3.]\n",
      "[  7.5   11.25]\n"
     ]
    }
   ],
   "source": [
    "def f(x):\n",
    "    return 1.5*x\n",
    "def f2(z):\n",
    "    x=z[0]\n",
    "    y=z[1]\n",
    "    f=np.zeros(2)\n",
    "    f[0]=y-x**2 + 8*x - 15\n",
    "    f[1]=y-1.5*x\n",
    "    return f\n",
    "z= fsolve(f2, [2,5])\n",
    "print(z)\n",
    "def f3(w):\n",
    "    p=w[0]\n",
    "    s=w[1]\n",
    "    d=np.zeros(2)\n",
    "    d[0]=s-p**2 + 8*p - 15\n",
    "    d[1]=s-1.5*p\n",
    "    return d\n",
    "g=fsolve(f3, [5,5])\n",
    "print(g)"
   ]
  },
  {
   "cell_type": "markdown",
   "metadata": {},
   "source": [
    "We want to plot the function and hence need to define a range over which to plot. Define the range in such a way that the graph below looks \"nice\".\n",
    "\n",
    "-   **4. [0.5 point]:** Generate a list (or \"vector\", if you wish) of $x$ values between 0 and 8 (including 8.0). Call this `range_x`."
   ]
  },
  {
   "cell_type": "code",
   "execution_count": 9,
   "metadata": {},
   "outputs": [
    {
     "name": "stdout",
     "output_type": "stream",
     "text": [
      "[ 0.          0.01001252  0.02002503  0.03003755  0.04005006  0.05006258\n",
      "  0.06007509  0.07008761  0.08010013  0.09011264  0.10012516  0.11013767\n",
      "  0.12015019  0.1301627   0.14017522  0.15018773  0.16020025  0.17021277\n",
      "  0.18022528  0.1902378   0.20025031  0.21026283  0.22027534  0.23028786\n",
      "  0.24030038  0.25031289  0.26032541  0.27033792  0.28035044  0.29036295\n",
      "  0.30037547  0.31038798  0.3204005   0.33041302  0.34042553  0.35043805\n",
      "  0.36045056  0.37046308  0.38047559  0.39048811  0.40050063  0.41051314\n",
      "  0.42052566  0.43053817  0.44055069  0.4505632   0.46057572  0.47058824\n",
      "  0.48060075  0.49061327  0.50062578  0.5106383   0.52065081  0.53066333\n",
      "  0.54067584  0.55068836  0.56070088  0.57071339  0.58072591  0.59073842\n",
      "  0.60075094  0.61076345  0.62077597  0.63078849  0.640801    0.65081352\n",
      "  0.66082603  0.67083855  0.68085106  0.69086358  0.7008761   0.71088861\n",
      "  0.72090113  0.73091364  0.74092616  0.75093867  0.76095119  0.7709637\n",
      "  0.78097622  0.79098874  0.80100125  0.81101377  0.82102628  0.8310388\n",
      "  0.84105131  0.85106383  0.86107635  0.87108886  0.88110138  0.89111389\n",
      "  0.90112641  0.91113892  0.92115144  0.93116395  0.94117647  0.95118899\n",
      "  0.9612015   0.97121402  0.98122653  0.99123905  1.00125156  1.01126408\n",
      "  1.0212766   1.03128911  1.04130163  1.05131414  1.06132666  1.07133917\n",
      "  1.08135169  1.09136421  1.10137672  1.11138924  1.12140175  1.13141427\n",
      "  1.14142678  1.1514393   1.16145181  1.17146433  1.18147685  1.19148936\n",
      "  1.20150188  1.21151439  1.22152691  1.23153942  1.24155194  1.25156446\n",
      "  1.26157697  1.27158949  1.281602    1.29161452  1.30162703  1.31163955\n",
      "  1.32165207  1.33166458  1.3416771   1.35168961  1.36170213  1.37171464\n",
      "  1.38172716  1.39173967  1.40175219  1.41176471  1.42177722  1.43178974\n",
      "  1.44180225  1.45181477  1.46182728  1.4718398   1.48185232  1.49186483\n",
      "  1.50187735  1.51188986  1.52190238  1.53191489  1.54192741  1.55193992\n",
      "  1.56195244  1.57196496  1.58197747  1.59198999  1.6020025   1.61201502\n",
      "  1.62202753  1.63204005  1.64205257  1.65206508  1.6620776   1.67209011\n",
      "  1.68210263  1.69211514  1.70212766  1.71214018  1.72215269  1.73216521\n",
      "  1.74217772  1.75219024  1.76220275  1.77221527  1.78222778  1.7922403\n",
      "  1.80225282  1.81226533  1.82227785  1.83229036  1.84230288  1.85231539\n",
      "  1.86232791  1.87234043  1.88235294  1.89236546  1.90237797  1.91239049\n",
      "  1.922403    1.93241552  1.94242804  1.95244055  1.96245307  1.97246558\n",
      "  1.9824781   1.99249061  2.00250313  2.01251564  2.02252816  2.03254068\n",
      "  2.04255319  2.05256571  2.06257822  2.07259074  2.08260325  2.09261577\n",
      "  2.10262829  2.1126408   2.12265332  2.13266583  2.14267835  2.15269086\n",
      "  2.16270338  2.17271589  2.18272841  2.19274093  2.20275344  2.21276596\n",
      "  2.22277847  2.23279099  2.2428035   2.25281602  2.26282854  2.27284105\n",
      "  2.28285357  2.29286608  2.3028786   2.31289111  2.32290363  2.33291615\n",
      "  2.34292866  2.35294118  2.36295369  2.37296621  2.38297872  2.39299124\n",
      "  2.40300375  2.41301627  2.42302879  2.4330413   2.44305382  2.45306633\n",
      "  2.46307885  2.47309136  2.48310388  2.4931164   2.50312891  2.51314143\n",
      "  2.52315394  2.53316646  2.54317897  2.55319149  2.56320401  2.57321652\n",
      "  2.58322904  2.59324155  2.60325407  2.61326658  2.6232791   2.63329161\n",
      "  2.64330413  2.65331665  2.66332916  2.67334168  2.68335419  2.69336671\n",
      "  2.70337922  2.71339174  2.72340426  2.73341677  2.74342929  2.7534418\n",
      "  2.76345432  2.77346683  2.78347935  2.79349186  2.80350438  2.8135169\n",
      "  2.82352941  2.83354193  2.84355444  2.85356696  2.86357947  2.87359199\n",
      "  2.88360451  2.89361702  2.90362954  2.91364205  2.92365457  2.93366708\n",
      "  2.9436796   2.95369212  2.96370463  2.97371715  2.98372966  2.99374218\n",
      "  3.00375469  3.01376721  3.02377972  3.03379224  3.04380476  3.05381727\n",
      "  3.06382979  3.0738423   3.08385482  3.09386733  3.10387985  3.11389237\n",
      "  3.12390488  3.1339174   3.14392991  3.15394243  3.16395494  3.17396746\n",
      "  3.18397997  3.19399249  3.20400501  3.21401752  3.22403004  3.23404255\n",
      "  3.24405507  3.25406758  3.2640801   3.27409262  3.28410513  3.29411765\n",
      "  3.30413016  3.31414268  3.32415519  3.33416771  3.34418023  3.35419274\n",
      "  3.36420526  3.37421777  3.38423029  3.3942428   3.40425532  3.41426783\n",
      "  3.42428035  3.43429287  3.44430538  3.4543179   3.46433041  3.47434293\n",
      "  3.48435544  3.49436796  3.50438048  3.51439299  3.52440551  3.53441802\n",
      "  3.54443054  3.55444305  3.56445557  3.57446809  3.5844806   3.59449312\n",
      "  3.60450563  3.61451815  3.62453066  3.63454318  3.64455569  3.65456821\n",
      "  3.66458073  3.67459324  3.68460576  3.69461827  3.70463079  3.7146433\n",
      "  3.72465582  3.73466834  3.74468085  3.75469337  3.76470588  3.7747184\n",
      "  3.78473091  3.79474343  3.80475594  3.81476846  3.82478098  3.83479349\n",
      "  3.84480601  3.85481852  3.86483104  3.87484355  3.88485607  3.89486859\n",
      "  3.9048811   3.91489362  3.92490613  3.93491865  3.94493116  3.95494368\n",
      "  3.9649562   3.97496871  3.98498123  3.99499374  4.00500626  4.01501877\n",
      "  4.02503129  4.0350438   4.04505632  4.05506884  4.06508135  4.07509387\n",
      "  4.08510638  4.0951189   4.10513141  4.11514393  4.12515645  4.13516896\n",
      "  4.14518148  4.15519399  4.16520651  4.17521902  4.18523154  4.19524406\n",
      "  4.20525657  4.21526909  4.2252816   4.23529412  4.24530663  4.25531915\n",
      "  4.26533166  4.27534418  4.2853567   4.29536921  4.30538173  4.31539424\n",
      "  4.32540676  4.33541927  4.34543179  4.35544431  4.36545682  4.37546934\n",
      "  4.38548185  4.39549437  4.40550688  4.4155194   4.42553191  4.43554443\n",
      "  4.44555695  4.45556946  4.46558198  4.47559449  4.48560701  4.49561952\n",
      "  4.50563204  4.51564456  4.52565707  4.53566959  4.5456821   4.55569462\n",
      "  4.56570713  4.57571965  4.58573217  4.59574468  4.6057572   4.61576971\n",
      "  4.62578223  4.63579474  4.64580726  4.65581977  4.66583229  4.67584481\n",
      "  4.68585732  4.69586984  4.70588235  4.71589487  4.72590738  4.7359199\n",
      "  4.74593242  4.75594493  4.76595745  4.77596996  4.78598248  4.79599499\n",
      "  4.80600751  4.81602003  4.82603254  4.83604506  4.84605757  4.85607009\n",
      "  4.8660826   4.87609512  4.88610763  4.89612015  4.90613267  4.91614518\n",
      "  4.9261577   4.93617021  4.94618273  4.95619524  4.96620776  4.97622028\n",
      "  4.98623279  4.99624531  5.00625782  5.01627034  5.02628285  5.03629537\n",
      "  5.04630788  5.0563204   5.06633292  5.07634543  5.08635795  5.09637046\n",
      "  5.10638298  5.11639549  5.12640801  5.13642053  5.14643304  5.15644556\n",
      "  5.16645807  5.17647059  5.1864831   5.19649562  5.20650814  5.21652065\n",
      "  5.22653317  5.23654568  5.2465582   5.25657071  5.26658323  5.27659574\n",
      "  5.28660826  5.29662078  5.30663329  5.31664581  5.32665832  5.33667084\n",
      "  5.34668335  5.35669587  5.36670839  5.3767209   5.38673342  5.39674593\n",
      "  5.40675845  5.41677096  5.42678348  5.43679599  5.44680851  5.45682103\n",
      "  5.46683354  5.47684606  5.48685857  5.49687109  5.5068836   5.51689612\n",
      "  5.52690864  5.53692115  5.54693367  5.55694618  5.5669587   5.57697121\n",
      "  5.58698373  5.59699625  5.60700876  5.61702128  5.62703379  5.63704631\n",
      "  5.64705882  5.65707134  5.66708385  5.67709637  5.68710889  5.6971214\n",
      "  5.70713392  5.71714643  5.72715895  5.73717146  5.74718398  5.7571965\n",
      "  5.76720901  5.77722153  5.78723404  5.79724656  5.80725907  5.81727159\n",
      "  5.82728411  5.83729662  5.84730914  5.85732165  5.86733417  5.87734668\n",
      "  5.8873592   5.89737171  5.90738423  5.91739675  5.92740926  5.93742178\n",
      "  5.94743429  5.95744681  5.96745932  5.97747184  5.98748436  5.99749687\n",
      "  6.00750939  6.0175219   6.02753442  6.03754693  6.04755945  6.05757196\n",
      "  6.06758448  6.077597    6.08760951  6.09762203  6.10763454  6.11764706\n",
      "  6.12765957  6.13767209  6.14768461  6.15769712  6.16770964  6.17772215\n",
      "  6.18773467  6.19774718  6.2077597   6.21777222  6.22778473  6.23779725\n",
      "  6.24780976  6.25782228  6.26783479  6.27784731  6.28785982  6.29787234\n",
      "  6.30788486  6.31789737  6.32790989  6.3379224   6.34793492  6.35794743\n",
      "  6.36795995  6.37797247  6.38798498  6.3979975   6.40801001  6.41802253\n",
      "  6.42803504  6.43804756  6.44806008  6.45807259  6.46808511  6.47809762\n",
      "  6.48811014  6.49812265  6.50813517  6.51814768  6.5281602   6.53817272\n",
      "  6.54818523  6.55819775  6.56821026  6.57822278  6.58823529  6.59824781\n",
      "  6.60826033  6.61827284  6.62828536  6.63829787  6.64831039  6.6583229\n",
      "  6.66833542  6.67834793  6.68836045  6.69837297  6.70838548  6.718398\n",
      "  6.72841051  6.73842303  6.74843554  6.75844806  6.76846058  6.77847309\n",
      "  6.78848561  6.79849812  6.80851064  6.81852315  6.82853567  6.83854819\n",
      "  6.8485607   6.85857322  6.86858573  6.87859825  6.88861076  6.89862328\n",
      "  6.90863579  6.91864831  6.92866083  6.93867334  6.94868586  6.95869837\n",
      "  6.96871089  6.9787234   6.98873592  6.99874844  7.00876095  7.01877347\n",
      "  7.02878598  7.0387985   7.04881101  7.05882353  7.06883605  7.07884856\n",
      "  7.08886108  7.09887359  7.10888611  7.11889862  7.12891114  7.13892365\n",
      "  7.14893617  7.15894869  7.1689612   7.17897372  7.18898623  7.19899875\n",
      "  7.20901126  7.21902378  7.2290363   7.23904881  7.24906133  7.25907384\n",
      "  7.26908636  7.27909887  7.28911139  7.2991239   7.30913642  7.31914894\n",
      "  7.32916145  7.33917397  7.34918648  7.359199    7.36921151  7.37922403\n",
      "  7.38923655  7.39924906  7.40926158  7.41927409  7.42928661  7.43929912\n",
      "  7.44931164  7.45932416  7.46933667  7.47934919  7.4893617   7.49937422\n",
      "  7.50938673  7.51939925  7.52941176  7.53942428  7.5494368   7.55944931\n",
      "  7.56946183  7.57947434  7.58948686  7.59949937  7.60951189  7.61952441\n",
      "  7.62953692  7.63954944  7.64956195  7.65957447  7.66958698  7.6795995\n",
      "  7.68961202  7.69962453  7.70963705  7.71964956  7.72966208  7.73967459\n",
      "  7.74968711  7.75969962  7.76971214  7.77972466  7.78973717  7.79974969\n",
      "  7.8097622   7.81977472  7.82978723  7.83979975  7.84981227  7.85982478\n",
      "  7.8698373   7.87984981  7.88986233  7.89987484  7.90988736  7.91989987\n",
      "  7.92991239  7.93992491  7.94993742  7.95994994  7.96996245  7.97997497\n",
      "  7.98998748  8.        ]\n"
     ]
    }
   ],
   "source": [
    "range_x = np.linspace(0,8,800)\n",
    "print(range_x)"
   ]
  },
  {
   "cell_type": "markdown",
   "metadata": {},
   "source": [
    "# Using $matplotlib$"
   ]
  },
  {
   "cell_type": "markdown",
   "metadata": {},
   "source": [
    "-   **5. [0.5 point]:** Above we import $matplotlib.pyplot$. Explain what the $plt$-part of this import statement does."
   ]
  },
  {
   "cell_type": "markdown",
   "metadata": {},
   "source": [
    "plt is short for matplotlib.pyplot. Importing the package with this shorter name will allow you to fit more code in a line thus you will be able to work faster."
   ]
  },
  {
   "cell_type": "markdown",
   "metadata": {},
   "source": [
    "-   **6. [1 point]:** Use $matplotlib$ to plot both the function $objective$ and the function $1.5 x$. Make sure that the horizontal axis is labeled $x$ and the vertical axis $y$."
   ]
  },
  {
   "cell_type": "code",
   "execution_count": 13,
   "metadata": {},
   "outputs": [
    {
     "data": {
      "text/plain": [
       "<matplotlib.legend.Legend at 0x88dfb70>"
      ]
     },
     "execution_count": 13,
     "metadata": {},
     "output_type": "execute_result"
    },
    {
     "data": {
      "image/png": "[encoded data removed]",
      "text/plain": [
       "<matplotlib.figure.Figure at 0x8429710>"
      ]
     },
     "metadata": {},
     "output_type": "display_data"
    }
   ],
   "source": [
    "x = range_x\n",
    "plt.plot(x,f(x),label='1.5X')\n",
    "plt.plot(x,objective(x),label='X^2-8X+15')\n",
    "plt.xlabel('x axis')\n",
    "plt.ylabel('y axis')\n",
    "plt.title('graphic')\n",
    "plt.legend()"
   ]
  }
 ],
 "metadata": {
  "kernelspec": {
   "display_name": "Python 3",
   "language": "python",
   "name": "python3"
  },
  "language_info": {
   "codemirror_mode": {
    "name": "ipython",
    "version": 3
   },
   "file_extension": ".py",
   "mimetype": "text/x-python",
   "name": "python",
   "nbconvert_exporter": "python",
   "pygments_lexer": "ipython3",
   "version": "3.6.1"
  },
  "org": null
 },
 "nbformat": 4,
 "nbformat_minor": 1
}
